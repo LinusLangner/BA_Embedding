{
 "cells": [
  {
   "cell_type": "code",
   "execution_count": 5,
   "metadata": {},
   "outputs": [],
   "source": [
    "import os\n",
    "from dotenv import load_dotenv\n",
    "\n",
    "# Load the environment variables from the .env file\n",
    "load_dotenv()\n",
    "\n",
    "# Get the value of OPENAI_API_KEY from the environment variables\n",
    "openai_api_key = os.getenv(\"OPENAI_API_KEY\")"
   ]
  },
  {
   "cell_type": "code",
   "execution_count": 1,
   "metadata": {},
   "outputs": [],
   "source": [
    "import json\n",
    "\n",
    "# Step 1: Create a basic Python dictionary with the entries \"name\", \"order_id\", \"status\"\n",
    "orders = {\n",
    "    \"order_12345\": {\n",
    "        \"name\": \"John Doe\",\n",
    "        \"order_id\": \"order_12345\",\n",
    "        \"status\": \"In transit\"\n",
    "    },\n",
    "    \"order_67890\": {\n",
    "        \"name\": \"Jane Smith\",\n",
    "        \"order_id\": \"order_67890\",\n",
    "        \"status\": \"Delivered\"\n",
    "    },\n",
    "    \"order_24680\": {\n",
    "        \"name\": \"Alice Johnson\",\n",
    "        \"order_id\": \"order_24680\",\n",
    "        \"status\": \"Processing\"\n",
    "    }\n",
    "}\n",
    "\n",
    "# This is the function that we want the model to be able to call\n",
    "def get_order_status(order_id: str) -> dict:\n",
    "    # Lookup the order in the dictionary\n",
    "    order = orders.get(order_id)\n",
    "    if order:\n",
    "        return {\"order_id\": order_id, \"status\": order[\"status\"]}\n",
    "    else:\n",
    "        return {\"order_id\": order_id, \"status\": \"Order not found\"}"
   ]
  },
  {
   "cell_type": "code",
   "execution_count": 2,
   "metadata": {},
   "outputs": [],
   "source": [
    "# Step 2: Describe your function to the model so it knows how to call it\n",
    "function_definition = {\n",
    "    \"name\": \"get_order_status\",\n",
    "    \"description\": \"Get the status of a customer's order. Call this whenever you need to know the status of an order.\",\n",
    "    \"parameters\": {\n",
    "        \"type\": \"object\",\n",
    "        \"properties\": {\n",
    "            \"order_id\": {\n",
    "                \"type\": \"string\",\n",
    "                \"description\": \"The customer's order ID.\",\n",
    "            },\n",
    "        },\n",
    "        \"required\": [\"order_id\"],\n",
    "        \"additionalProperties\": False,\n",
    "    }\n",
    "}"
   ]
  },
  {
   "cell_type": "code",
   "execution_count": 3,
   "metadata": {},
   "outputs": [],
   "source": [
    "# Step 3: Pass your function definitions as available “tools” to the model, along with the messages\n",
    "tools = [\n",
    "    {\n",
    "        \"type\": \"function\",\n",
    "        \"function\": function_definition\n",
    "    }\n",
    "]"
   ]
  },
  {
   "cell_type": "code",
   "execution_count": 65,
   "metadata": {},
   "outputs": [],
   "source": [
    "messages = [\n",
    "    {\"role\": \"system\", \"content\": \"You are a helpful customer support assistant. Use the supplied tools to assist the user.\"},\n",
    "    {\"role\": \"user\", \"content\": \"Hi, can you tell me the status of my order?\"}\n",
    "]"
   ]
  },
  {
   "cell_type": "code",
   "execution_count": 66,
   "metadata": {},
   "outputs": [],
   "source": [
    "import openai\n",
    "from openai import OpenAI\n",
    "openai.api_key = openai_api_key\n",
    "\n",
    "client = OpenAI()\n",
    "\n",
    "response = client.chat.completions.create(\n",
    "    model=\"gpt-4o\",\n",
    "    messages=messages,\n",
    "    tools=tools,\n",
    ")"
   ]
  },
  {
   "cell_type": "code",
   "execution_count": 68,
   "metadata": {},
   "outputs": [
    {
     "name": "stdout",
     "output_type": "stream",
     "text": [
      "ChatCompletionMessage(content='Sure, I can help with that. Please provide me with your order ID, so I can check the status for you.', refusal=None, role='assistant', function_call=None, tool_calls=None)\n"
     ]
    }
   ],
   "source": [
    "print(response.choices[0].message)"
   ]
  },
  {
   "cell_type": "code",
   "execution_count": 64,
   "metadata": {},
   "outputs": [
    {
     "name": "stdout",
     "output_type": "stream",
     "text": [
      "ChatCompletionMessageToolCall(id='call_0wwfmeKfEregpEKtjm6zpUUX', function=Function(arguments='{\\n  \"order_id\": \"order_12345\"\\n}', name='get_order_status'), type='function')\n"
     ]
    }
   ],
   "source": [
    "tool_call = response.choices[0].message.tool_calls[0]\n",
    "print(tool_call)\n"
   ]
  },
  {
   "cell_type": "code",
   "execution_count": 63,
   "metadata": {},
   "outputs": [
    {
     "name": "stdout",
     "output_type": "stream",
     "text": [
      "{'order_id': 'order_12345', 'status': 'In transit'}\n"
     ]
    }
   ],
   "source": [
    "arguments = json.loads(tool_call.function.arguments)  # Correct way to access the arguments\n",
    "\n",
    "order_id = arguments.get('order_id')\n",
    "\n",
    "# Call the get_delivery_date function with the extracted order_id\n",
    "delivery_date = get_order_status(order_id)\n",
    "print(delivery_date)"
   ]
  },
  {
   "cell_type": "code",
   "execution_count": 73,
   "metadata": {},
   "outputs": [
    {
     "name": "stdout",
     "output_type": "stream",
     "text": [
      "name='Vergiftung' date='2023-10-04T18:00:00' participants=['Ich', 'Thomas Schmidt']\n"
     ]
    }
   ],
   "source": [
    "from pydantic import BaseModel\n",
    "from openai import OpenAI\n",
    "\n",
    "client = OpenAI()\n",
    "\n",
    "class CalendarEvent(BaseModel):\n",
    "    name: str\n",
    "    date: str\n",
    "    participants: list[str]\n",
    "\n",
    "completion = client.beta.chat.completions.parse(\n",
    "    model=\"gpt-4o-2024-08-06\",\n",
    "    messages=[\n",
    "        {\"role\": \"system\", \"content\": \"Extract the event information.\"},\n",
    "        {\"role\": \"user\", \"content\": \"Alice and Bob are going to a science fair on Friday.\"},\n",
    "    ],\n",
    "    response_format=CalendarEvent,\n",
    ")\n",
    "\n",
    "event = completion.choices[0].message.parsed"
   ]
  },
  {
   "cell_type": "code",
   "execution_count": 74,
   "metadata": {},
   "outputs": [],
   "source": [
    "from pydantic import BaseModel\n",
    "from openai import OpenAI\n",
    "\n",
    "client = OpenAI()\n",
    "\n",
    "class Step(BaseModel):\n",
    "    explanation: str\n",
    "    output: str\n",
    "\n",
    "class MathReasoning(BaseModel):\n",
    "    steps: list[Step]\n",
    "    final_answer: str\n",
    "\n",
    "completion = client.beta.chat.completions.parse(\n",
    "    model=\"gpt-4o-2024-08-06\",\n",
    "    messages=[\n",
    "        {\"role\": \"system\", \"content\": \"You are a helpful math tutor. Guide the user through the solution step by step.\"},\n",
    "        {\"role\": \"user\", \"content\": \"how can I solve 8x + 7 = -23\"}\n",
    "    ],\n",
    "    response_format=MathReasoning,\n",
    ")\n",
    "\n",
    "math_reasoning = completion.choices[0].message"
   ]
  },
  {
   "cell_type": "code",
   "execution_count": 75,
   "metadata": {},
   "outputs": [
    {
     "name": "stdout",
     "output_type": "stream",
     "text": [
      "ParsedChatCompletionMessage[MathReasoning](content='{\"steps\":[{\"explanation\":\"We want to isolate the term with the variable \\'x\\'. To start, we need to get rid of the constant term on the left-hand side. To do this, subtract 7 from both sides of the equation.\",\"output\":\"8x + 7 - 7 = -23 - 7\"},{\"explanation\":\"Simplifying both sides after subtracting 7 from each, the 7s cancel on the left, leaving just the term with \\'x\\'. Calculate the right side as well.\",\"output\":\"8x = -30\"},{\"explanation\":\"Now we need to solve for \\'x\\'. Since \\'x\\' is being multiplied by 8, divide each side of the equation by 8 to isolate \\'x\\'.\",\"output\":\"8x / 8 = -30 / 8\"},{\"explanation\":\"Divide both sides by 8 to solve for \\'x\\'.\",\"output\":\"x = -30 / 8\"},{\"explanation\":\"Simplify the fraction to find the most reduced form of the answer. Both -30 and 8 can be divided by 2.\",\"output\":\"x = -15 / 4\"}],\"final_answer\":\"x = -15/4\"}', refusal=None, role='assistant', function_call=None, tool_calls=[], parsed=MathReasoning(steps=[Step(explanation=\"We want to isolate the term with the variable 'x'. To start, we need to get rid of the constant term on the left-hand side. To do this, subtract 7 from both sides of the equation.\", output='8x + 7 - 7 = -23 - 7'), Step(explanation=\"Simplifying both sides after subtracting 7 from each, the 7s cancel on the left, leaving just the term with 'x'. Calculate the right side as well.\", output='8x = -30'), Step(explanation=\"Now we need to solve for 'x'. Since 'x' is being multiplied by 8, divide each side of the equation by 8 to isolate 'x'.\", output='8x / 8 = -30 / 8'), Step(explanation=\"Divide both sides by 8 to solve for 'x'.\", output='x = -30 / 8'), Step(explanation='Simplify the fraction to find the most reduced form of the answer. Both -30 and 8 can be divided by 2.', output='x = -15 / 4')], final_answer='x = -15/4'))\n"
     ]
    }
   ],
   "source": [
    "print(math_reasoning)"
   ]
  },
  {
   "cell_type": "markdown",
   "metadata": {},
   "source": [
    "# Praxis"
   ]
  },
  {
   "cell_type": "code",
   "execution_count": 80,
   "metadata": {},
   "outputs": [],
   "source": [
    "from pydantic import BaseModel\n",
    "from openai import OpenAI\n",
    "\n",
    "client = OpenAI()\n",
    "\n",
    "user_input = \"\"\"\n",
    "Lieferantenrechnung\n",
    "Rechnungsnummer: 12347\n",
    "Datum: 17.08.2024\n",
    "Lieferant: Textil GmbH\n",
    "Adresse: Musterstraße 1, 12345 Beispielstadt\n",
    "Bestellnummer: PO-2024-003\n",
    "Artikelnummer Beschreibung Menge Preis (EUR)\n",
    "1007 Seidenstoff, 30m Rolle 5 800.00\n",
    "1008 Metallknöpfe, 50 Stück 100 1.20\n",
    "1009 Spitzenborte, 2m 200 2.50\n",
    "Gesamtbetrag (EUR): 1600.00\n",
    "\"\"\"\n",
    "\n",
    "class ResearchPaperExtraction(BaseModel):\n",
    "    order_number: str\n",
    "    article_number: list[str]\n",
    "    description: list[str]\n",
    "    amount: list[str]\n",
    "    prices: list[str]\n",
    "    total: str\n",
    "    date: int\n",
    "\n",
    "completion = client.beta.chat.completions.parse(\n",
    "    model=\"gpt-4o-2024-08-06\",\n",
    "    messages=[\n",
    "        {\"role\": \"system\", \"content\": \"You are an expert at structured data extraction. You will be given unstructured text from a order and should convert it into the given structure.\"},\n",
    "        {\"role\": \"user\", \"content\": user_input}\n",
    "    ],\n",
    "    response_format=ResearchPaperExtraction,\n",
    ")\n",
    "\n",
    "research_paper = completion.choices[0].message"
   ]
  },
  {
   "cell_type": "code",
   "execution_count": 79,
   "metadata": {},
   "outputs": [
    {
     "name": "stdout",
     "output_type": "stream",
     "text": [
      "order_number='PO-2024-003' article_number=['1007', '1008', '1009'] description=['Seidenstoff, 30m Rolle', 'Metallknöpfe, 50 Stück', 'Spitzenborte, 2m'] amount=['5', '100', '200'] prices=['800.00', '1.20', '2.50'] total='1600.00' date=20240817\n"
     ]
    }
   ],
   "source": [
    "print(research_paper)"
   ]
  },
  {
   "cell_type": "code",
   "execution_count": null,
   "metadata": {},
   "outputs": [],
   "source": []
  }
 ],
 "metadata": {
  "kernelspec": {
   "display_name": ".venv",
   "language": "python",
   "name": "python3"
  },
  "language_info": {
   "codemirror_mode": {
    "name": "ipython",
    "version": 3
   },
   "file_extension": ".py",
   "mimetype": "text/x-python",
   "name": "python",
   "nbconvert_exporter": "python",
   "pygments_lexer": "ipython3",
   "version": "3.12.3"
  }
 },
 "nbformat": 4,
 "nbformat_minor": 2
}
