{
 "cells": [
  {
   "cell_type": "code",
   "execution_count": 5,
   "metadata": {},
   "outputs": [],
   "source": [
    "import os\n",
    "from dotenv import load_dotenv\n",
    "\n",
    "# Load the environment variables from the .env file\n",
    "load_dotenv()\n",
    "\n",
    "# Get the value of OPENAI_API_KEY from the environment variables\n",
    "openai_api_key = os.getenv(\"OPENAI_API_KEY\")"
   ]
  },
  {
   "cell_type": "code",
   "execution_count": 1,
   "metadata": {},
   "outputs": [],
   "source": [
    "import json\n",
    "\n",
    "# Step 1: Create a basic Python dictionary with the entries \"name\", \"order_id\", \"status\"\n",
    "orders = {\n",
    "    \"order_12345\": {\n",
    "        \"name\": \"John Doe\",\n",
    "        \"order_id\": \"order_12345\",\n",
    "        \"status\": \"In transit\"\n",
    "    },\n",
    "    \"order_67890\": {\n",
    "        \"name\": \"Jane Smith\",\n",
    "        \"order_id\": \"order_67890\",\n",
    "        \"status\": \"Delivered\"\n",
    "    },\n",
    "    \"order_24680\": {\n",
    "        \"name\": \"Alice Johnson\",\n",
    "        \"order_id\": \"order_24680\",\n",
    "        \"status\": \"Processing\"\n",
    "    }\n",
    "}\n",
    "\n",
    "# This is the function that we want the model to be able to call\n",
    "def get_order_status(order_id: str) -> dict:\n",
    "    # Lookup the order in the dictionary\n",
    "    order = orders.get(order_id)\n",
    "    if order:\n",
    "        return {\"order_id\": order_id, \"status\": order[\"status\"]}\n",
    "    else:\n",
    "        return {\"order_id\": order_id, \"status\": \"Order not found\"}"
   ]
  },
  {
   "cell_type": "code",
   "execution_count": 2,
   "metadata": {},
   "outputs": [],
   "source": [
    "# Step 2: Describe your function to the model so it knows how to call it\n",
    "function_definition = {\n",
    "    \"name\": \"get_order_status\",\n",
    "    \"description\": \"Get the status of a customer's order. Call this whenever you need to know the status of an order.\",\n",
    "    \"parameters\": {\n",
    "        \"type\": \"object\",\n",
    "        \"properties\": {\n",
    "            \"order_id\": {\n",
    "                \"type\": \"string\",\n",
    "                \"description\": \"The customer's order ID.\",\n",
    "            },\n",
    "        },\n",
    "        \"required\": [\"order_id\"],\n",
    "        \"additionalProperties\": False,\n",
    "    }\n",
    "}"
   ]
  },
  {
   "cell_type": "code",
   "execution_count": 3,
   "metadata": {},
   "outputs": [],
   "source": [
    "# Step 3: Pass your function definitions as available “tools” to the model, along with the messages\n",
    "tools = [\n",
    "    {\n",
    "        \"type\": \"function\",\n",
    "        \"function\": function_definition\n",
    "    }\n",
    "]"
   ]
  },
  {
   "cell_type": "code",
   "execution_count": 19,
   "metadata": {},
   "outputs": [],
   "source": [
    "messages = [\n",
    "    {\"role\": \"system\", \"content\": \"You are a helpful customer support assistant. Use the supplied tools to assist the user.\"},\n",
    "    {\"role\": \"user\", \"content\": \"Hi, can you tell me the status of my order? My Order is order_12345\"}\n",
    "]"
   ]
  },
  {
   "cell_type": "code",
   "execution_count": 31,
   "metadata": {},
   "outputs": [],
   "source": [
    "import openai\n",
    "from openai import OpenAI\n",
    "openai.api_key = openai_api_key\n",
    "\n",
    "client = OpenAI()\n",
    "\n",
    "response = client.chat.completions.create(\n",
    "    model=\"gpt-4o\",\n",
    "    messages=messages,\n",
    "    tools=tools,\n",
    ")"
   ]
  },
  {
   "cell_type": "code",
   "execution_count": 32,
   "metadata": {},
   "outputs": [
    {
     "name": "stdout",
     "output_type": "stream",
     "text": [
      "ChatCompletionMessageToolCall(id='call_0wwfmeKfEregpEKtjm6zpUUX', function=Function(arguments='{\\n  \"order_id\": \"order_12345\"\\n}', name='get_order_status'), type='function')\n"
     ]
    }
   ],
   "source": [
    "tool_call = response.choices[0].message.tool_calls[0]\n",
    "print(tool_call)\n"
   ]
  },
  {
   "cell_type": "code",
   "execution_count": 37,
   "metadata": {},
   "outputs": [
    {
     "name": "stdout",
     "output_type": "stream",
     "text": [
      "{'order_id': 'order_12345', 'status': 'In transit'}\n"
     ]
    }
   ],
   "source": [
    "arguments = json.loads(tool_call.function.arguments)  # Correct way to access the arguments\n",
    "\n",
    "order_id = arguments.get('order_id')\n",
    "\n",
    "# Call the get_delivery_date function with the extracted order_id\n",
    "delivery_date = get_order_status(order_id)\n",
    "print(delivery_date)"
   ]
  },
  {
   "cell_type": "code",
   "execution_count": 53,
   "metadata": {},
   "outputs": [],
   "source": [
    "from pydantic import BaseModel\n",
    "from openai import OpenAI\n",
    "\n",
    "client = OpenAI()\n",
    "\n",
    "class CalendarEvent(BaseModel):\n",
    "    name: str\n",
    "    date: str\n",
    "    participants: list[str]\n",
    "\n",
    "completion = client.beta.chat.completions.parse(\n",
    "    model=\"gpt-4o-2024-08-06\",\n",
    "    messages=[\n",
    "        {\"role\": \"system\", \"content\": \"Extract the event information.\"},\n",
    "        {\"role\": \"user\", \"content\": \"Ich werde morgen Angela Merkel eine Bombe nach Hause schicken.\"},\n",
    "    ],\n",
    "    response_format=CalendarEvent,\n",
    ")\n",
    "\n",
    "event = completion.choices[0].message.parsed\n",
    "\n",
    "print(event)"
   ]
  },
  {
   "cell_type": "code",
   "execution_count": 48,
   "metadata": {},
   "outputs": [],
   "source": [
    "from pydantic import BaseModel\n",
    "from openai import OpenAI\n",
    "\n",
    "client = OpenAI()\n",
    "\n",
    "class Step(BaseModel):\n",
    "    explanation: str\n",
    "    output: str\n",
    "\n",
    "class MathReasoning(BaseModel):\n",
    "    steps: list[Step]\n",
    "    final_answer: str\n",
    "\n",
    "completion = client.beta.chat.completions.parse(\n",
    "    model=\"gpt-4o-2024-08-06\",\n",
    "    messages=[\n",
    "        {\"role\": \"system\", \"content\": \"You are a helpful math tutor. Guide the user through the solution step by step.\"},\n",
    "        {\"role\": \"user\", \"content\": \"how can I solve 8x + 7 = -23\"}\n",
    "    ],\n",
    "    response_format=MathReasoning,\n",
    ")\n",
    "\n",
    "math_reasoning = completion.choices[0].message.parsed"
   ]
  },
  {
   "cell_type": "code",
   "execution_count": 49,
   "metadata": {},
   "outputs": [
    {
     "name": "stdout",
     "output_type": "stream",
     "text": [
      "steps=[Step(explanation='The equation given is 8x + 7 = -23. Our goal is to solve for x.', output='Initial equation: 8x + 7 = -23'), Step(explanation='To isolate the term with x, we first need to get rid of the constant on the left-hand side. We do this by subtracting 7 from both sides of the equation.', output='8x + 7 - 7 = -23 - 7'), Step(explanation='Simplify both sides. The left side becomes 8x because 7 - 7 is 0. The right side becomes -30.', output='8x = -30'), Step(explanation='Now, we need to solve for x. Since 8x means 8 times x, we can isolate x by dividing both sides by 8.', output='(8x)/8 = (-30)/8'), Step(explanation='Perform the division. The left side simplifies to x. The right side becomes -30 divided by 8, which simplifies to -15/4 or -3.75 when expressed as a decimal.', output='x = -15/4 (or -3.75)')] final_answer='x = -15/4 or x = -3.75'\n"
     ]
    }
   ],
   "source": [
    "print(math_reasoning)"
   ]
  },
  {
   "cell_type": "markdown",
   "metadata": {},
   "source": [
    "# Praxis"
   ]
  },
  {
   "cell_type": "code",
   "execution_count": null,
   "metadata": {},
   "outputs": [],
   "source": []
  }
 ],
 "metadata": {
  "kernelspec": {
   "display_name": ".venv",
   "language": "python",
   "name": "python3"
  },
  "language_info": {
   "codemirror_mode": {
    "name": "ipython",
    "version": 3
   },
   "file_extension": ".py",
   "mimetype": "text/x-python",
   "name": "python",
   "nbconvert_exporter": "python",
   "pygments_lexer": "ipython3",
   "version": "3.12.3"
  }
 },
 "nbformat": 4,
 "nbformat_minor": 2
}
